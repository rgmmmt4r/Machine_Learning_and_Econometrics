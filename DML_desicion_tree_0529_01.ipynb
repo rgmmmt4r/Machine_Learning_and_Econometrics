{
 "cells": [
  {
   "cell_type": "code",
   "execution_count": 15,
   "metadata": {
    "executionInfo": {
     "elapsed": 5,
     "status": "ok",
     "timestamp": 1685195877691,
     "user": {
      "displayName": "顏嘉佑",
      "userId": "03664050953453327827"
     },
     "user_tz": -480
    },
    "id": "cP6_-1gRUjB5"
   },
   "outputs": [],
   "source": [
    "import pandas as pd\n",
    "from econml.dml import CausalForestDML\n",
    "from sklearn.linear_model import MultiTaskLassoCV\n",
    "from sklearn.linear_model import LassoCV\n",
    "from sklearn.tree import DecisionTreeRegressor\n",
    "\n",
    "import matplotlib.pyplot as plt"
   ]
  },
  {
   "cell_type": "code",
   "execution_count": 16,
   "metadata": {
    "executionInfo": {
     "elapsed": 9,
     "status": "ok",
     "timestamp": 1685195880567,
     "user": {
      "displayName": "顏嘉佑",
      "userId": "03664050953453327827"
     },
     "user_tz": -480
    },
    "id": "gvXLuDkIU4LG"
   },
   "outputs": [],
   "source": [
    "treatments = [' n_tokens_title', ' n_tokens_content',\n",
    "       ' num_imgs', ' num_videos',\n",
    "       ' num_keywords', \n",
    "       ]\n",
    "binary_treatments =  [' data_channel_is_lifestyle',\n",
    "       ' data_channel_is_entertainment', ' data_channel_is_bus',\n",
    "       ' data_channel_is_socmed', ' data_channel_is_tech',\n",
    "       ' data_channel_is_world', \n",
    "       ' weekday_is_monday', ' weekday_is_tuesday', ' weekday_is_wednesday',\n",
    "       ' weekday_is_thursday', ' weekday_is_friday', ' weekday_is_saturday',\n",
    "       ' weekday_is_sunday', ' is_weekend',  \n",
    "       ' week_end_cross_data_channel_is_Work',\n",
    "       ' week_end_cross_data_channel_is_Entertainment',\n",
    "       ' week_day_cross_data_channel_is_Work',\n",
    "       ' week_day_cross_data_channel_is_Entertainment'\n",
    "       ]\n",
    "\n",
    "\n"
   ]
  },
  {
   "cell_type": "code",
   "execution_count": 17,
   "metadata": {
    "executionInfo": {
     "elapsed": 2,
     "status": "aborted",
     "timestamp": 1685195870550,
     "user": {
      "displayName": "顏嘉佑",
      "userId": "03664050953453327827"
     },
     "user_tz": -480
    },
    "id": "EO6vlLwDzoIu"
   },
   "outputs": [],
   "source": [
    "import pandas as pd\n",
    "from sklearn.linear_model import MultiTaskLassoCV\n",
    "from sklearn.linear_model import LassoCV\n",
    "from sklearn.tree import DecisionTreeRegressor\n",
    "import matplotlib.pyplot as plt\n",
    "from datetime import datetime\n",
    "import time"
   ]
  },
  {
   "cell_type": "code",
   "execution_count": 18,
   "metadata": {
    "executionInfo": {
     "elapsed": 2,
     "status": "aborted",
     "timestamp": 1685195870550,
     "user": {
      "displayName": "顏嘉佑",
      "userId": "03664050953453327827"
     },
     "user_tz": -480
    },
    "id": "JqiX9i1A8zaL"
   },
   "outputs": [],
   "source": [
    "df = pd.read_csv('OnlineNewsPopularity_interacted.csv')"
   ]
  },
  {
   "cell_type": "code",
   "execution_count": 19,
   "metadata": {},
   "outputs": [],
   "source": [
    "df = df.drop(columns=['url'])"
   ]
  },
  {
   "cell_type": "code",
   "execution_count": 20,
   "metadata": {
    "executionInfo": {
     "elapsed": 3,
     "status": "aborted",
     "timestamp": 1685195870551,
     "user": {
      "displayName": "顏嘉佑",
      "userId": "03664050953453327827"
     },
     "user_tz": -480
    },
    "id": "HosIX_CRzqaO"
   },
   "outputs": [],
   "source": [
    "import numpy as np\n",
    "\n",
    "import doubleml as dml\n",
    "\n",
    "from doubleml.datasets import make_irm_data\n",
    "\n",
    "from sklearn.ensemble import RandomForestClassifier\n",
    "\n",
    "from sklearn.tree import DecisionTreeClassifier\n",
    "\n",
    "np.random.seed(3141)\n",
    "\n",
    "ml_g = DecisionTreeClassifier( max_features=20, max_depth=10, min_samples_leaf=2)\n",
    "\n",
    "ml_m = DecisionTreeClassifier( max_features=20, max_depth=10, min_samples_leaf=2)"
   ]
  },
  {
   "cell_type": "markdown",
   "metadata": {},
   "source": [
    "DecisionTreeClassifier is used in weekday_is_wednesday  weekday_is_thursday weekday_is_friday"
   ]
  },
  {
   "cell_type": "code",
   "execution_count": 10,
   "metadata": {
    "executionInfo": {
     "elapsed": 3,
     "status": "aborted",
     "timestamp": 1685195870551,
     "user": {
      "displayName": "顏嘉佑",
      "userId": "03664050953453327827"
     },
     "user_tz": -480
    },
    "id": "Gb6IbmnWztfI"
   },
   "outputs": [],
   "source": [
    "treatments = [' n_tokens_title', ' n_tokens_content',\n",
    "       ' num_imgs', ' num_videos',\n",
    "       ' num_keywords', ' global_subjectivity',\n",
    "       ' global_sentiment_polarity', ' global_rate_positive_words',\n",
    "       ' global_rate_negative_words', ' rate_positive_words',\n",
    "       ' rate_negative_words', ' avg_positive_polarity',\n",
    "       ' min_positive_polarity', ' max_positive_polarity',\n",
    "       ' avg_negative_polarity', ' min_negative_polarity',\n",
    "       ' max_negative_polarity', ' title_subjectivity',\n",
    "       ' title_sentiment_polarity', ' abs_title_subjectivity',\n",
    "       ]\n",
    "binary_treatments =  [' data_channel_is_lifestyle',\n",
    "       ' data_channel_is_entertainment', ' data_channel_is_bus',\n",
    "       ' data_channel_is_socmed', ' data_channel_is_tech',\n",
    "       ' data_channel_is_world', \n",
    "       'data_channel_is_Work', \n",
    "       ' data_channel_is_Entertainment',\n",
    "       ' week_end_cross_data_channel_is_Work',\n",
    "       ' week_end_cross_data_channel_is_Entertainment',\n",
    "       ' week_day_cross_data_channel_is_Work',\n",
    "       ' week_day_cross_data_channel_is_Entertainment',\n",
    "        ' weekday_is_monday', ' weekday_is_tuesday', ' weekday_is_wednesday',\n",
    "       ' weekday_is_thursday', ' weekday_is_friday', ' weekday_is_saturday',\n",
    "       ' weekday_is_sunday', ' is_weekend',  \n",
    "       ]"
   ]
  },
  {
   "cell_type": "code",
   "execution_count": 11,
   "metadata": {
    "executionInfo": {
     "elapsed": 3,
     "status": "aborted",
     "timestamp": 1685195870551,
     "user": {
      "displayName": "顏嘉佑",
      "userId": "03664050953453327827"
     },
     "user_tz": -480
    },
    "id": "pQdGDIXvDzZI"
   },
   "outputs": [
    {
     "name": "stdout",
     "output_type": "stream",
     "text": [
      "2023-05-28 21:56:27.824692\n",
      "treatment:  data_channel_is_lifestyle\n"
     ]
    },
    {
     "name": "stderr",
     "output_type": "stream",
     "text": [
      "Subsample has not common support. Results are based on adjusted propensities.\n",
      "Subsample has not common support. Results are based on adjusted propensities.\n",
      "Subsample has not common support. Results are based on adjusted propensities.\n",
      "Subsample has not common support. Results are based on adjusted propensities.\n",
      "Subsample has not common support. Results are based on adjusted propensities.\n",
      "Subsample has not common support. Results are based on adjusted propensities.\n",
      "Subsample has not common support. Results are based on adjusted propensities.\n",
      "Subsample has not common support. Results are based on adjusted propensities.\n",
      "Subsample has not common support. Results are based on adjusted propensities.\n"
     ]
    },
    {
     "name": "stdout",
     "output_type": "stream",
     "text": [
      "       coef     std err         t     P>|t|       2.5 %       97.5 %\n",
      "0.25  132.0   91.934214  1.435809  0.151057  -48.187748   312.187748\n",
      "0.50 -100.0  101.814338 -0.982180  0.326011 -299.552435    99.552435\n",
      "0.75  400.0  417.136554  0.958919  0.337600 -417.572623  1217.572623\n",
      "2023-05-28 22:42:25.868565\n"
     ]
    }
   ],
   "source": [
    "print(datetime.now())\n",
    "obj_dml_data = dml.DoubleMLData(df, ' shares', ' data_channel_is_lifestyle')\n",
    "dml_qte_obj = dml.DoubleMLQTE(obj_dml_data, ml_g, ml_m, score='PQ', quantiles=[0.25, 0.5, 0.75])\n",
    "print(\"treatment:\",' data_channel_is_lifestyle')\n",
    "print(dml_qte_obj.fit().summary)\n",
    "current_dateTime = datetime.now()\n",
    "print(current_dateTime)\n",
    "time.sleep(60*10)"
   ]
  },
  {
   "cell_type": "code",
   "execution_count": 22,
   "metadata": {
    "executionInfo": {
     "elapsed": 4,
     "status": "aborted",
     "timestamp": 1685195870552,
     "user": {
      "displayName": "顏嘉佑",
      "userId": "03664050953453327827"
     },
     "user_tz": -480
    },
    "id": "SSJl1EzTELqW"
   },
   "outputs": [
    {
     "name": "stdout",
     "output_type": "stream",
     "text": [
      "2023-05-27 23:36:17.767709\n",
      "treatment:  data_channel_is_entertainment\n"
     ]
    },
    {
     "name": "stderr",
     "output_type": "stream",
     "text": [
      "Subsample has not common support. Results are based on adjusted propensities.\n",
      "Subsample has not common support. Results are based on adjusted propensities.\n",
      "Subsample has not common support. Results are based on adjusted propensities.\n",
      "Subsample has not common support. Results are based on adjusted propensities.\n",
      "Subsample has not common support. Results are based on adjusted propensities.\n",
      "Subsample has not common support. Results are based on adjusted propensities.\n",
      "Subsample has not common support. Results are based on adjusted propensities.\n",
      "Subsample has not common support. Results are based on adjusted propensities.\n",
      "Subsample has not common support. Results are based on adjusted propensities.\n",
      "Subsample has not common support. Results are based on adjusted propensities.\n"
     ]
    },
    {
     "name": "stdout",
     "output_type": "stream",
     "text": [
      "       coef    std err          t          P>|t|       2.5 %      97.5 %\n",
      "0.25 -149.0   9.244858 -16.117067   1.935798e-58 -167.119589 -130.880411\n",
      "0.50 -300.0  13.026009 -23.030845  2.288809e-117 -325.530508 -274.469492\n",
      "0.75 -400.0  61.382394  -6.516527   7.195408e-11 -520.307282 -279.692718\n",
      "2023-05-28 00:29:52.406542\n"
     ]
    }
   ],
   "source": [
    "print(datetime.now())\n",
    "obj_dml_data = dml.DoubleMLData(df, ' shares', ' data_channel_is_entertainment')\n",
    "dml_qte_obj = dml.DoubleMLQTE(obj_dml_data, ml_g, ml_m, score='PQ', quantiles=[0.25, 0.5, 0.75])\n",
    "print(\"treatment:\",' data_channel_is_entertainment')\n",
    "print(dml_qte_obj.fit().summary)\n",
    "current_dateTime = datetime.now()\n",
    "print(current_dateTime)\n",
    "time.sleep(60*10)"
   ]
  },
  {
   "cell_type": "code",
   "execution_count": 23,
   "metadata": {
    "executionInfo": {
     "elapsed": 4,
     "status": "aborted",
     "timestamp": 1685195870552,
     "user": {
      "displayName": "顏嘉佑",
      "userId": "03664050953453327827"
     },
     "user_tz": -480
    },
    "id": "XdAObn4VELuH"
   },
   "outputs": [
    {
     "name": "stdout",
     "output_type": "stream",
     "text": [
      "2023-05-28 00:39:52.486973\n",
      "treatment:  data_channel_is_bus\n"
     ]
    },
    {
     "name": "stderr",
     "output_type": "stream",
     "text": [
      "Subsample has not common support. Results are based on adjusted propensities.\n",
      "Subsample has not common support. Results are based on adjusted propensities.\n",
      "Subsample has not common support. Results are based on adjusted propensities.\n",
      "Subsample has not common support. Results are based on adjusted propensities.\n",
      "Subsample has not common support. Results are based on adjusted propensities.\n",
      "Subsample has not common support. Results are based on adjusted propensities.\n",
      "Subsample has not common support. Results are based on adjusted propensities.\n"
     ]
    },
    {
     "name": "stdout",
     "output_type": "stream",
     "text": [
      "              coef    std err             t         P>|t|       2.5 %  \\\n",
      "0.25 -1.500000e+01   9.807337 -1.529467e+00  1.261487e-01  -34.222027   \n",
      "0.50  1.818989e-12  17.560917  1.035817e-13  1.000000e+00  -34.418766   \n",
      "0.75  3.000000e+02  60.708479  4.941649e+00  7.746455e-07  181.013567   \n",
      "\n",
      "          97.5 %  \n",
      "0.25    4.222027  \n",
      "0.50   34.418766  \n",
      "0.75  418.986433  \n",
      "2023-05-28 01:32:55.537181\n"
     ]
    }
   ],
   "source": [
    "print(datetime.now())\n",
    "obj_dml_data = dml.DoubleMLData(df, ' shares', ' data_channel_is_bus')\n",
    "dml_qte_obj = dml.DoubleMLQTE(obj_dml_data, ml_g, ml_m, score='PQ', quantiles=[0.25, 0.5, 0.75])\n",
    "print(\"treatment:\",' data_channel_is_bus')\n",
    "print(dml_qte_obj.fit().summary)\n",
    "current_dateTime = datetime.now()\n",
    "print(current_dateTime)\n",
    "time.sleep(60*10)"
   ]
  },
  {
   "cell_type": "code",
   "execution_count": 24,
   "metadata": {
    "executionInfo": {
     "elapsed": 4,
     "status": "aborted",
     "timestamp": 1685195870552,
     "user": {
      "displayName": "顏嘉佑",
      "userId": "03664050953453327827"
     },
     "user_tz": -480
    },
    "id": "vw4FVGUdELwn"
   },
   "outputs": [
    {
     "name": "stdout",
     "output_type": "stream",
     "text": [
      "2023-05-28 01:42:55.612841\n",
      "treatment:  data_channel_is_socmed\n"
     ]
    },
    {
     "name": "stderr",
     "output_type": "stream",
     "text": [
      "Subsample has not common support. Results are based on adjusted propensities.\n",
      "Subsample has not common support. Results are based on adjusted propensities.\n",
      "Subsample has not common support. Results are based on adjusted propensities.\n",
      "Subsample has not common support. Results are based on adjusted propensities.\n",
      "Subsample has not common support. Results are based on adjusted propensities.\n",
      "Subsample has not common support. Results are based on adjusted propensities.\n",
      "Subsample has not common support. Results are based on adjusted propensities.\n",
      "Subsample has not common support. Results are based on adjusted propensities.\n"
     ]
    },
    {
     "name": "stdout",
     "output_type": "stream",
     "text": [
      "       coef    std err          t         P>|t|       2.5 %      97.5 %\n",
      "0.25  369.0  24.606125  14.996266  7.766758e-51  320.772880  417.227120\n",
      "0.50  400.0  34.976376  11.436291  2.754108e-30  331.447563  468.552437\n",
      "0.75  700.0  94.057382   7.442265  9.897310e-14  515.650920  884.349080\n",
      "2023-05-28 02:37:36.864132\n"
     ]
    }
   ],
   "source": [
    "print(datetime.now())\n",
    "obj_dml_data = dml.DoubleMLData(df, ' shares', ' data_channel_is_socmed')\n",
    "dml_qte_obj = dml.DoubleMLQTE(obj_dml_data, ml_g, ml_m, score='PQ', quantiles=[0.25, 0.5, 0.75])\n",
    "print(\"treatment:\",' data_channel_is_socmed')\n",
    "print(dml_qte_obj.fit().summary)\n",
    "current_dateTime = datetime.now()\n",
    "print(current_dateTime)\n",
    "time.sleep(60*10)"
   ]
  },
  {
   "cell_type": "code",
   "execution_count": 25,
   "metadata": {
    "executionInfo": {
     "elapsed": 5,
     "status": "aborted",
     "timestamp": 1685195870553,
     "user": {
      "displayName": "顏嘉佑",
      "userId": "03664050953453327827"
     },
     "user_tz": -480
    },
    "id": "jhD3QeBKELzN"
   },
   "outputs": [
    {
     "name": "stdout",
     "output_type": "stream",
     "text": [
      "2023-05-28 02:47:36.947095\n",
      "treatment:  data_channel_is_tech\n"
     ]
    },
    {
     "name": "stderr",
     "output_type": "stream",
     "text": [
      "Subsample has not common support. Results are based on adjusted propensities.\n",
      "Subsample has not common support. Results are based on adjusted propensities.\n",
      "Subsample has not common support. Results are based on adjusted propensities.\n",
      "Subsample has not common support. Results are based on adjusted propensities.\n",
      "Subsample has not common support. Results are based on adjusted propensities.\n",
      "Subsample has not common support. Results are based on adjusted propensities.\n",
      "Subsample has not common support. Results are based on adjusted propensities.\n"
     ]
    },
    {
     "name": "stdout",
     "output_type": "stream",
     "text": [
      "        coef    std err          t         P>|t|       2.5 %       97.5 %\n",
      "0.25   180.0  12.567159  14.323047  1.570832e-46  155.368821   204.631179\n",
      "0.50   400.0  20.159475  19.841787  1.297635e-87  360.488156   439.511844\n",
      "0.75  1100.0  65.417193  16.815151  1.890094e-63  971.784657  1228.215343\n",
      "2023-05-28 03:39:52.776985\n"
     ]
    }
   ],
   "source": [
    "print(datetime.now())\n",
    "obj_dml_data = dml.DoubleMLData(df, ' shares', ' data_channel_is_tech')\n",
    "dml_qte_obj = dml.DoubleMLQTE(obj_dml_data, ml_g, ml_m, score='PQ', quantiles=[0.25, 0.5, 0.75])\n",
    "print(\"treatment:\",' data_channel_is_tech')\n",
    "print(dml_qte_obj.fit().summary)\n",
    "current_dateTime = datetime.now()\n",
    "print(current_dateTime)\n",
    "time.sleep(60*10)"
   ]
  },
  {
   "cell_type": "code",
   "execution_count": 26,
   "metadata": {
    "executionInfo": {
     "elapsed": 5,
     "status": "aborted",
     "timestamp": 1685195870553,
     "user": {
      "displayName": "顏嘉佑",
      "userId": "03664050953453327827"
     },
     "user_tz": -480
    },
    "id": "1xF9UKlhEL1h"
   },
   "outputs": [
    {
     "name": "stdout",
     "output_type": "stream",
     "text": [
      "2023-05-28 03:49:52.857892\n",
      "treatment:  data_channel_is_world\n"
     ]
    },
    {
     "name": "stderr",
     "output_type": "stream",
     "text": [
      "Subsample has not common support. Results are based on adjusted propensities.\n",
      "Subsample has not common support. Results are based on adjusted propensities.\n",
      "Subsample has not common support. Results are based on adjusted propensities.\n",
      "Subsample has not common support. Results are based on adjusted propensities.\n",
      "Subsample has not common support. Results are based on adjusted propensities.\n",
      "Subsample has not common support. Results are based on adjusted propensities.\n",
      "Subsample has not common support. Results are based on adjusted propensities.\n"
     ]
    },
    {
     "name": "stdout",
     "output_type": "stream",
     "text": [
      "        coef     std err          t         P>|t|        2.5 %       97.5 %\n",
      "0.25  -153.0    8.132443 -18.813534  5.850447e-79  -168.939296  -137.060704\n",
      "0.50  -100.0   15.473797  -6.462538  1.029613e-10  -130.328084   -69.671916\n",
      "0.75  1400.0  140.795757   9.943481  2.692491e-23  1124.045387  1675.954613\n",
      "2023-05-28 04:43:19.539135\n"
     ]
    }
   ],
   "source": [
    "print(datetime.now())\n",
    "obj_dml_data = dml.DoubleMLData(df, ' shares', ' data_channel_is_world')\n",
    "dml_qte_obj = dml.DoubleMLQTE(obj_dml_data, ml_g, ml_m, score='PQ', quantiles=[0.25, 0.5, 0.75])\n",
    "print(\"treatment:\",' data_channel_is_world')\n",
    "print(dml_qte_obj.fit().summary)\n",
    "current_dateTime = datetime.now()\n",
    "print(current_dateTime)\n",
    "time.sleep(60*10)"
   ]
  },
  {
   "cell_type": "code",
   "execution_count": 27,
   "metadata": {
    "executionInfo": {
     "elapsed": 5,
     "status": "aborted",
     "timestamp": 1685195870553,
     "user": {
      "displayName": "顏嘉佑",
      "userId": "03664050953453327827"
     },
     "user_tz": -480
    },
    "id": "GyjHcDGcEL4J"
   },
   "outputs": [
    {
     "name": "stdout",
     "output_type": "stream",
     "text": [
      "2023-05-28 04:53:19.623332\n",
      "treatment:  data_channel_is_Work\n"
     ]
    },
    {
     "name": "stderr",
     "output_type": "stream",
     "text": [
      "Subsample has not common support. Results are based on adjusted propensities.\n",
      "Subsample has not common support. Results are based on adjusted propensities.\n",
      "Subsample has not common support. Results are based on adjusted propensities.\n",
      "Subsample has not common support. Results are based on adjusted propensities.\n",
      "Subsample has not common support. Results are based on adjusted propensities.\n",
      "Subsample has not common support. Results are based on adjusted propensities.\n",
      "Subsample has not common support. Results are based on adjusted propensities.\n"
     ]
    },
    {
     "name": "stdout",
     "output_type": "stream",
     "text": [
      "       coef    std err          t         P>|t|       2.5 %      97.5 %\n",
      "0.25   92.0   8.476741  10.853228  1.925042e-27   75.385893  108.614107\n",
      "0.50  300.0  15.291686  19.618504  1.074692e-85  270.028847  329.971153\n",
      "0.75  600.0  55.588321  10.793634  3.689067e-27  491.048893  708.951107\n",
      "2023-05-28 05:45:50.754652\n"
     ]
    }
   ],
   "source": [
    "print(datetime.now())\n",
    "obj_dml_data = dml.DoubleMLData(df, ' shares', ' data_channel_is_Work')\n",
    "dml_qte_obj = dml.DoubleMLQTE(obj_dml_data, ml_g, ml_m, score='PQ', quantiles=[0.25, 0.5, 0.75])\n",
    "print(\"treatment:\",' data_channel_is_Work')\n",
    "print(dml_qte_obj.fit().summary)\n",
    "current_dateTime = datetime.now()\n",
    "print(current_dateTime)\n",
    "time.sleep(60*10)"
   ]
  },
  {
   "cell_type": "code",
   "execution_count": 28,
   "metadata": {
    "executionInfo": {
     "elapsed": 5,
     "status": "aborted",
     "timestamp": 1685195870553,
     "user": {
      "displayName": "顏嘉佑",
      "userId": "03664050953453327827"
     },
     "user_tz": -480
    },
    "id": "xEB_e-0iEL6h"
   },
   "outputs": [
    {
     "name": "stdout",
     "output_type": "stream",
     "text": [
      "2023-05-28 05:55:50.832398\n",
      "treatment:  data_channel_is_Entertainment\n"
     ]
    },
    {
     "name": "stderr",
     "output_type": "stream",
     "text": [
      "Subsample has not common support. Results are based on adjusted propensities.\n",
      "Subsample has not common support. Results are based on adjusted propensities.\n",
      "Subsample has not common support. Results are based on adjusted propensities.\n",
      "Subsample has not common support. Results are based on adjusted propensities.\n",
      "Subsample has not common support. Results are based on adjusted propensities.\n",
      "Subsample has not common support. Results are based on adjusted propensities.\n",
      "Subsample has not common support. Results are based on adjusted propensities.\n"
     ]
    },
    {
     "name": "stdout",
     "output_type": "stream",
     "text": [
      "       coef    std err          t         P>|t|       2.5 %      97.5 %\n",
      "0.25 -124.0   7.895859 -15.704434  1.410299e-55 -139.475599 -108.524401\n",
      "0.50 -200.0  13.583944 -14.723265  4.570520e-49 -226.624041 -173.375959\n",
      "0.75 -500.0  49.646961 -10.071110  7.413665e-24 -597.306255 -402.693745\n",
      "2023-05-28 06:47:15.175453\n"
     ]
    }
   ],
   "source": [
    "print(datetime.now())\n",
    "obj_dml_data = dml.DoubleMLData(df, ' shares', ' data_channel_is_Entertainment')\n",
    "dml_qte_obj = dml.DoubleMLQTE(obj_dml_data, ml_g, ml_m, score='PQ', quantiles=[0.25, 0.5, 0.75])\n",
    "print(\"treatment:\",' data_channel_is_Entertainment')\n",
    "print(dml_qte_obj.fit().summary)\n",
    "current_dateTime = datetime.now()\n",
    "print(current_dateTime)\n",
    "time.sleep(60*10)"
   ]
  },
  {
   "cell_type": "code",
   "execution_count": 29,
   "metadata": {
    "executionInfo": {
     "elapsed": 6,
     "status": "aborted",
     "timestamp": 1685195870554,
     "user": {
      "displayName": "顏嘉佑",
      "userId": "03664050953453327827"
     },
     "user_tz": -480
    },
    "id": "YktZ1qorEL9N"
   },
   "outputs": [
    {
     "name": "stdout",
     "output_type": "stream",
     "text": [
      "2023-05-28 06:57:15.261341\n",
      "treatment:  week_end_cross_data_channel_is_Work\n"
     ]
    },
    {
     "name": "stderr",
     "output_type": "stream",
     "text": [
      "Subsample has not common support. Results are based on adjusted propensities.\n",
      "Subsample has not common support. Results are based on adjusted propensities.\n",
      "Subsample has not common support. Results are based on adjusted propensities.\n",
      "Subsample has not common support. Results are based on adjusted propensities.\n",
      "Subsample has not common support. Results are based on adjusted propensities.\n",
      "Subsample has not common support. Results are based on adjusted propensities.\n",
      "Subsample has not common support. Results are based on adjusted propensities.\n",
      "Subsample has not common support. Results are based on adjusted propensities.\n",
      "Subsample has not common support. Results are based on adjusted propensities.\n",
      "Subsample has not common support. Results are based on adjusted propensities.\n",
      "Subsample has not common support. Results are based on adjusted propensities.\n",
      "Subsample has not common support. Results are based on adjusted propensities.\n",
      "Subsample has not common support. Results are based on adjusted propensities.\n"
     ]
    },
    {
     "name": "stdout",
     "output_type": "stream",
     "text": [
      "        coef     std err          t         P>|t|       2.5 %       97.5 %\n",
      "0.25   663.0   33.431370  19.831673  1.586737e-87  597.475718   728.524282\n",
      "0.50   900.0   73.256234  12.285644  1.081803e-34  756.420419  1043.579581\n",
      "0.75  1200.0  134.788855   8.902813  5.444875e-19  935.818699  1464.181301\n",
      "2023-05-28 07:49:06.798356\n"
     ]
    }
   ],
   "source": [
    "print(datetime.now())\n",
    "obj_dml_data = dml.DoubleMLData(df, ' shares', ' week_end_cross_data_channel_is_Work')\n",
    "dml_qte_obj = dml.DoubleMLQTE(obj_dml_data, ml_g, ml_m, score='PQ', quantiles=[0.25, 0.5, 0.75])\n",
    "print(\"treatment:\",' week_end_cross_data_channel_is_Work')\n",
    "print(dml_qte_obj.fit().summary)\n",
    "current_dateTime = datetime.now()\n",
    "print(current_dateTime)\n",
    "time.sleep(60*10)"
   ]
  },
  {
   "cell_type": "code",
   "execution_count": 30,
   "metadata": {
    "executionInfo": {
     "elapsed": 6,
     "status": "aborted",
     "timestamp": 1685195870554,
     "user": {
      "displayName": "顏嘉佑",
      "userId": "03664050953453327827"
     },
     "user_tz": -480
    },
    "id": "Amg83ZQ2EkTu"
   },
   "outputs": [
    {
     "name": "stdout",
     "output_type": "stream",
     "text": [
      "2023-05-28 07:59:06.896756\n",
      "treatment:  week_day_cross_data_channel_is_Work\n"
     ]
    },
    {
     "name": "stderr",
     "output_type": "stream",
     "text": [
      "Subsample has not common support. Results are based on adjusted propensities.\n",
      "Subsample has not common support. Results are based on adjusted propensities.\n",
      "Subsample has not common support. Results are based on adjusted propensities.\n",
      "Subsample has not common support. Results are based on adjusted propensities.\n",
      "Subsample has not common support. Results are based on adjusted propensities.\n",
      "Subsample has not common support. Results are based on adjusted propensities.\n",
      "Subsample has not common support. Results are based on adjusted propensities.\n"
     ]
    },
    {
     "name": "stdout",
     "output_type": "stream",
     "text": [
      "       coef    std err         t         P>|t|      2.5 %      97.5 %\n",
      "0.25   66.0   8.283023  7.968105  1.611258e-15  49.765573   82.234427\n",
      "0.50  100.0  15.372044  6.505316  7.753027e-11  69.871348  130.128652\n",
      "0.75  100.0  55.690812  1.795628  7.255365e-02  -9.151987  209.151987\n",
      "2023-05-28 08:51:16.208360\n"
     ]
    }
   ],
   "source": [
    "print(datetime.now())\n",
    "obj_dml_data = dml.DoubleMLData(df, ' shares', ' week_day_cross_data_channel_is_Work')\n",
    "dml_qte_obj = dml.DoubleMLQTE(obj_dml_data, ml_g, ml_m, score='PQ', quantiles=[0.25, 0.5, 0.75])\n",
    "print(\"treatment:\",' week_day_cross_data_channel_is_Work')\n",
    "print(dml_qte_obj.fit().summary)\n",
    "current_dateTime = datetime.now()\n",
    "print(current_dateTime)\n",
    "time.sleep(60*10)"
   ]
  },
  {
   "cell_type": "code",
   "execution_count": 31,
   "metadata": {
    "colab": {
     "base_uri": "https://localhost:8080/",
     "height": 252
    },
    "executionInfo": {
     "elapsed": 9,
     "status": "error",
     "timestamp": 1685195880568,
     "user": {
      "displayName": "顏嘉佑",
      "userId": "03664050953453327827"
     },
     "user_tz": -480
    },
    "id": "s5YQN4w3aVjD",
    "outputId": "d6e3648f-4530-48bb-f1dc-2d07942c9143"
   },
   "outputs": [
    {
     "name": "stdout",
     "output_type": "stream",
     "text": [
      "2023-05-28 09:01:16.274259\n",
      "treatment:  week_end_cross_data_channel_is_Entertainment\n"
     ]
    },
    {
     "name": "stderr",
     "output_type": "stream",
     "text": [
      "Subsample has not common support. Results are based on adjusted propensities.\n",
      "Subsample has not common support. Results are based on adjusted propensities.\n",
      "Subsample has not common support. Results are based on adjusted propensities.\n",
      "Subsample has not common support. Results are based on adjusted propensities.\n",
      "Subsample has not common support. Results are based on adjusted propensities.\n",
      "Subsample has not common support. Results are based on adjusted propensities.\n",
      "Subsample has not common support. Results are based on adjusted propensities.\n",
      "Subsample has not common support. Results are based on adjusted propensities.\n"
     ]
    },
    {
     "name": "stdout",
     "output_type": "stream",
     "text": [
      "       coef    std err          t         P>|t|       2.5 %      97.5 %\n",
      "0.25  270.0  16.436012  16.427342  1.218846e-60  237.786008  302.213992\n",
      "0.50  400.0  29.188369  13.704089  9.596463e-43  342.791848  457.208152\n",
      "0.75  700.0  98.963356   7.073325  1.512645e-12  506.035386  893.964614\n",
      "2023-05-28 09:52:25.594940\n"
     ]
    }
   ],
   "source": [
    "print(datetime.now())\n",
    "obj_dml_data = dml.DoubleMLData(df, ' shares', ' week_end_cross_data_channel_is_Entertainment')\n",
    "dml_qte_obj = dml.DoubleMLQTE(obj_dml_data, ml_g, ml_m, score='PQ', quantiles=[0.25, 0.5, 0.75])\n",
    "print(\"treatment:\",' week_end_cross_data_channel_is_Entertainment')\n",
    "print(dml_qte_obj.fit().summary)\n",
    "current_dateTime = datetime.now()\n",
    "print(current_dateTime)\n",
    "time.sleep(60*10)"
   ]
  },
  {
   "cell_type": "code",
   "execution_count": 32,
   "metadata": {
    "executionInfo": {
     "elapsed": 6,
     "status": "aborted",
     "timestamp": 1685195870554,
     "user": {
      "displayName": "顏嘉佑",
      "userId": "03664050953453327827"
     },
     "user_tz": -480
    },
    "id": "Da5BoC_WEkV6"
   },
   "outputs": [
    {
     "name": "stdout",
     "output_type": "stream",
     "text": [
      "2023-05-28 10:02:25.676621\n",
      "treatment:  week_day_cross_data_channel_is_Entertainment\n"
     ]
    },
    {
     "name": "stderr",
     "output_type": "stream",
     "text": [
      "Subsample has not common support. Results are based on adjusted propensities.\n",
      "Subsample has not common support. Results are based on adjusted propensities.\n",
      "Subsample has not common support. Results are based on adjusted propensities.\n",
      "Subsample has not common support. Results are based on adjusted propensities.\n",
      "Subsample has not common support. Results are based on adjusted propensities.\n",
      "Subsample has not common support. Results are based on adjusted propensities.\n",
      "Subsample has not common support. Results are based on adjusted propensities.\n",
      "Subsample has not common support. Results are based on adjusted propensities.\n",
      "Subsample has not common support. Results are based on adjusted propensities.\n",
      "Subsample has not common support. Results are based on adjusted propensities.\n"
     ]
    },
    {
     "name": "stdout",
     "output_type": "stream",
     "text": [
      "       coef    std err          t          P>|t|       2.5 %      97.5 %\n",
      "0.25 -255.0   8.307390 -30.695562  6.523277e-207 -271.282185 -238.717815\n",
      "0.50 -300.0  12.499810 -24.000365  2.756460e-127 -324.499177 -275.500823\n",
      "0.75 -500.0  45.290534 -11.039835   2.454847e-28 -588.767815 -411.232185\n",
      "2023-05-28 10:55:09.372086\n"
     ]
    }
   ],
   "source": [
    "print(datetime.now())\n",
    "obj_dml_data = dml.DoubleMLData(df, ' shares', ' week_day_cross_data_channel_is_Entertainment')\n",
    "dml_qte_obj = dml.DoubleMLQTE(obj_dml_data, ml_g, ml_m, score='PQ', quantiles=[0.25, 0.5, 0.75])\n",
    "print(\"treatment:\",' week_day_cross_data_channel_is_Entertainment')\n",
    "print(dml_qte_obj.fit().summary)\n",
    "current_dateTime = datetime.now()\n",
    "print(current_dateTime)\n",
    "time.sleep(60*10)"
   ]
  },
  {
   "cell_type": "code",
   "execution_count": 33,
   "metadata": {
    "executionInfo": {
     "elapsed": 7,
     "status": "aborted",
     "timestamp": 1685195870555,
     "user": {
      "displayName": "顏嘉佑",
      "userId": "03664050953453327827"
     },
     "user_tz": -480
    },
    "id": "Nci_GF33EkYf"
   },
   "outputs": [
    {
     "name": "stdout",
     "output_type": "stream",
     "text": [
      "2023-05-28 11:05:09.440134\n",
      "treatment:  weekday_is_monday\n"
     ]
    },
    {
     "name": "stderr",
     "output_type": "stream",
     "text": [
      "Subsample has not common support. Results are based on adjusted propensities.\n",
      "Subsample has not common support. Results are based on adjusted propensities.\n",
      "Subsample has not common support. Results are based on adjusted propensities.\n",
      "Subsample has not common support. Results are based on adjusted propensities.\n",
      "Subsample has not common support. Results are based on adjusted propensities.\n",
      "Subsample has not common support. Results are based on adjusted propensities.\n",
      "Subsample has not common support. Results are based on adjusted propensities.\n",
      "Subsample has not common support. Results are based on adjusted propensities.\n",
      "Subsample has not common support. Results are based on adjusted propensities.\n"
     ]
    },
    {
     "name": "stdout",
     "output_type": "stream",
     "text": [
      "              coef    std err             t     P>|t|       2.5 %      97.5 %\n",
      "0.25 -3.300000e+01  10.292937 -3.206082e+00  0.001346  -53.173786  -12.826214\n",
      "0.50 -1.591616e-12  16.246209 -9.796844e-14  1.000000  -31.841985   31.841985\n",
      "0.75  1.818989e-12  58.155070  3.127826e-14  1.000000 -113.981842  113.981842\n",
      "2023-05-28 11:58:58.556915\n"
     ]
    }
   ],
   "source": [
    "print(datetime.now())\n",
    "obj_dml_data = dml.DoubleMLData(df, ' shares', ' weekday_is_monday')\n",
    "dml_qte_obj = dml.DoubleMLQTE(obj_dml_data, ml_g, ml_m, score='PQ', quantiles=[0.25, 0.5, 0.75])\n",
    "print(\"treatment:\",' weekday_is_monday')\n",
    "print(dml_qte_obj.fit().summary)\n",
    "current_dateTime = datetime.now()\n",
    "print(current_dateTime)\n",
    "time.sleep(60*10)"
   ]
  },
  {
   "cell_type": "code",
   "execution_count": 34,
   "metadata": {
    "executionInfo": {
     "elapsed": 6,
     "status": "aborted",
     "timestamp": 1685195870555,
     "user": {
      "displayName": "顏嘉佑",
      "userId": "03664050953453327827"
     },
     "user_tz": -480
    },
    "id": "NMp4mUWEFRjE"
   },
   "outputs": [
    {
     "name": "stdout",
     "output_type": "stream",
     "text": [
      "2023-05-28 12:08:58.638738\n",
      "treatment:  weekday_is_tuesday\n"
     ]
    },
    {
     "name": "stderr",
     "output_type": "stream",
     "text": [
      "Subsample has not common support. Results are based on adjusted propensities.\n",
      "Subsample has not common support. Results are based on adjusted propensities.\n",
      "Subsample has not common support. Results are based on adjusted propensities.\n",
      "Subsample has not common support. Results are based on adjusted propensities.\n",
      "Subsample has not common support. Results are based on adjusted propensities.\n",
      "Subsample has not common support. Results are based on adjusted propensities.\n",
      "Subsample has not common support. Results are based on adjusted propensities.\n",
      "Subsample has not common support. Results are based on adjusted propensities.\n"
     ]
    },
    {
     "name": "stdout",
     "output_type": "stream",
     "text": [
      "       coef    std err         t         P>|t|       2.5 %      97.5 %\n",
      "0.25  -59.0   9.925113 -5.944517  2.772734e-09  -78.452864  -39.547136\n",
      "0.50 -100.0  13.809150 -7.241576  4.435021e-13 -127.065436  -72.934564\n",
      "0.75 -300.0  50.129925 -5.984449  2.171230e-09 -398.252847 -201.747153\n",
      "2023-05-28 13:03:10.608811\n"
     ]
    }
   ],
   "source": [
    "print(datetime.now())\n",
    "obj_dml_data = dml.DoubleMLData(df, ' shares', ' weekday_is_tuesday')\n",
    "dml_qte_obj = dml.DoubleMLQTE(obj_dml_data, ml_g, ml_m, score='PQ', quantiles=[0.25, 0.5, 0.75])\n",
    "print(\"treatment:\",' weekday_is_tuesday')\n",
    "print(dml_qte_obj.fit().summary)\n",
    "current_dateTime = datetime.now()\n",
    "print(current_dateTime)\n",
    "time.sleep(60*10)"
   ]
  },
  {
   "cell_type": "code",
   "execution_count": 12,
   "metadata": {
    "executionInfo": {
     "elapsed": 7,
     "status": "aborted",
     "timestamp": 1685195870556,
     "user": {
      "displayName": "顏嘉佑",
      "userId": "03664050953453327827"
     },
     "user_tz": -480
    },
    "id": "4Tai0am9FRob",
    "scrolled": false
   },
   "outputs": [
    {
     "name": "stdout",
     "output_type": "stream",
     "text": [
      "2023-05-28 22:52:25.969956\n",
      "treatment:  weekday_is_wednesday\n"
     ]
    },
    {
     "name": "stderr",
     "output_type": "stream",
     "text": [
      "Subsample has not common support. Results are based on adjusted propensities.\n",
      "Subsample has not common support. Results are based on adjusted propensities.\n",
      "Subsample has not common support. Results are based on adjusted propensities.\n",
      "Subsample has not common support. Results are based on adjusted propensities.\n",
      "Subsample has not common support. Results are based on adjusted propensities.\n",
      "Subsample has not common support. Results are based on adjusted propensities.\n",
      "Subsample has not common support. Results are based on adjusted propensities.\n",
      "Subsample has not common support. Results are based on adjusted propensities.\n",
      "Subsample has not common support. Results are based on adjusted propensities.\n",
      "Subsample has not common support. Results are based on adjusted propensities.\n"
     ]
    },
    {
     "name": "stdout",
     "output_type": "stream",
     "text": [
      "       coef    std err         t         P>|t|       2.5 %      97.5 %\n",
      "0.25  -76.0  10.251431 -7.413599  1.229170e-13  -96.092435  -55.907565\n",
      "0.50 -200.0  27.349674 -7.312701  2.618246e-13 -253.604377 -146.395623\n",
      "0.75 -200.0  76.094404 -2.628314  8.580923e-03 -349.142292  -50.857708\n",
      "2023-05-28 23:36:11.509946\n"
     ]
    }
   ],
   "source": [
    "print(datetime.now())\n",
    "obj_dml_data = dml.DoubleMLData(df, ' shares', ' weekday_is_wednesday')\n",
    "dml_qte_obj = dml.DoubleMLQTE(obj_dml_data, ml_g, ml_m, score='PQ', quantiles=[0.25, 0.5, 0.75])\n",
    "print(\"treatment:\",' weekday_is_wednesday')\n",
    "print(dml_qte_obj.fit().summary)\n",
    "current_dateTime = datetime.now()\n",
    "print(current_dateTime)\n",
    "time.sleep(60*10)"
   ]
  },
  {
   "cell_type": "code",
   "execution_count": 14,
   "metadata": {
    "executionInfo": {
     "elapsed": 7,
     "status": "aborted",
     "timestamp": 1685195870556,
     "user": {
      "displayName": "顏嘉佑",
      "userId": "03664050953453327827"
     },
     "user_tz": -480
    },
    "id": "iCefPorlFRqi"
   },
   "outputs": [
    {
     "name": "stdout",
     "output_type": "stream",
     "text": [
      "2023-05-29 00:40:17.287528\n",
      "treatment:  weekday_is_thursday\n"
     ]
    },
    {
     "name": "stderr",
     "output_type": "stream",
     "text": [
      "Subsample has not common support. Results are based on adjusted propensities.\n",
      "Subsample has not common support. Results are based on adjusted propensities.\n",
      "Subsample has not common support. Results are based on adjusted propensities.\n",
      "Subsample has not common support. Results are based on adjusted propensities.\n",
      "Subsample has not common support. Results are based on adjusted propensities.\n",
      "Subsample has not common support. Results are based on adjusted propensities.\n",
      "Subsample has not common support. Results are based on adjusted propensities.\n",
      "Subsample has not common support. Results are based on adjusted propensities.\n"
     ]
    },
    {
     "name": "stdout",
     "output_type": "stream",
     "text": [
      "       coef    std err         t         P>|t|       2.5 %      97.5 %\n",
      "0.25  -57.0  10.403005 -5.479186  4.272872e-08  -77.389516  -36.610484\n",
      "0.50  100.0  64.415904  1.552412  1.205638e-01  -26.252852  226.252852\n",
      "0.75 -300.0  79.304940 -3.782866  1.550326e-04 -455.434826 -144.565174\n",
      "2023-05-29 01:26:21.096607\n"
     ]
    }
   ],
   "source": [
    "print(datetime.now())\n",
    "obj_dml_data = dml.DoubleMLData(df, ' shares', ' weekday_is_thursday')\n",
    "dml_qte_obj = dml.DoubleMLQTE(obj_dml_data, ml_g, ml_m, score='PQ', quantiles=[0.25, 0.5, 0.75])\n",
    "print(\"treatment:\",' weekday_is_thursday')\n",
    "print(dml_qte_obj.fit().summary)\n",
    "current_dateTime = datetime.now()\n",
    "print(current_dateTime)\n",
    "time.sleep(60*10)"
   ]
  },
  {
   "cell_type": "code",
   "execution_count": 13,
   "metadata": {
    "executionInfo": {
     "elapsed": 7,
     "status": "aborted",
     "timestamp": 1685195870556,
     "user": {
      "displayName": "顏嘉佑",
      "userId": "03664050953453327827"
     },
     "user_tz": -480
    },
    "id": "WgHUp6SVFRs5"
   },
   "outputs": [
    {
     "name": "stdout",
     "output_type": "stream",
     "text": [
      "2023-05-28 23:46:11.600233\n",
      "treatment:  weekday_is_friday\n"
     ]
    },
    {
     "name": "stderr",
     "output_type": "stream",
     "text": [
      "Subsample has not common support. Results are based on adjusted propensities.\n",
      "Subsample has not common support. Results are based on adjusted propensities.\n",
      "Subsample has not common support. Results are based on adjusted propensities.\n",
      "Subsample has not common support. Results are based on adjusted propensities.\n",
      "Subsample has not common support. Results are based on adjusted propensities.\n",
      "Subsample has not common support. Results are based on adjusted propensities.\n",
      "Subsample has not common support. Results are based on adjusted propensities.\n"
     ]
    },
    {
     "name": "stdout",
     "output_type": "stream",
     "text": [
      "              coef     std err             t     P>|t|       2.5 %      97.5 %\n",
      "0.25  4.600000e+01   12.608817  3.648241e+00  0.000264   21.287172   70.712828\n",
      "0.50  1.000000e+02   31.374456  3.187306e+00  0.001436   38.507196  161.492804\n",
      "0.75  4.547474e-13  117.280146  3.877445e-15  1.000000 -229.864863  229.864863\n",
      "2023-05-29 00:30:17.230867\n"
     ]
    }
   ],
   "source": [
    "print(datetime.now())\n",
    "obj_dml_data = dml.DoubleMLData(df, ' shares', ' weekday_is_friday')\n",
    "dml_qte_obj = dml.DoubleMLQTE(obj_dml_data, ml_g, ml_m, score='PQ', quantiles=[0.25, 0.5, 0.75])\n",
    "print(\"treatment:\",' weekday_is_friday')\n",
    "print(dml_qte_obj.fit().summary)\n",
    "current_dateTime = datetime.now()\n",
    "print(current_dateTime)\n",
    "time.sleep(60*10)"
   ]
  },
  {
   "cell_type": "code",
   "execution_count": 8,
   "metadata": {
    "executionInfo": {
     "elapsed": 8,
     "status": "aborted",
     "timestamp": 1685195870557,
     "user": {
      "displayName": "顏嘉佑",
      "userId": "03664050953453327827"
     },
     "user_tz": -480
    },
    "id": "v7F9kDRNFRvR"
   },
   "outputs": [
    {
     "name": "stdout",
     "output_type": "stream",
     "text": [
      "2023-05-28 14:38:14.982215\n",
      "treatment:  weekday_is_saturday\n"
     ]
    },
    {
     "name": "stderr",
     "output_type": "stream",
     "text": [
      "C:\\Users\\user\\anaconda3\\envs\\finance\\lib\\site-packages\\doubleml\\_utils.py:283: UserWarning: Subsample has not common support. Results are based on adjusted propensities.\n",
      "  warnings.warn(\"Subsample has not common support. Results are based on adjusted propensities.\")\n",
      "C:\\Users\\user\\anaconda3\\envs\\finance\\lib\\site-packages\\doubleml\\_utils.py:283: UserWarning: Subsample has not common support. Results are based on adjusted propensities.\n",
      "  warnings.warn(\"Subsample has not common support. Results are based on adjusted propensities.\")\n",
      "C:\\Users\\user\\anaconda3\\envs\\finance\\lib\\site-packages\\doubleml\\_utils.py:283: UserWarning: Subsample has not common support. Results are based on adjusted propensities.\n",
      "  warnings.warn(\"Subsample has not common support. Results are based on adjusted propensities.\")\n",
      "C:\\Users\\user\\anaconda3\\envs\\finance\\lib\\site-packages\\doubleml\\_utils.py:283: UserWarning: Subsample has not common support. Results are based on adjusted propensities.\n",
      "  warnings.warn(\"Subsample has not common support. Results are based on adjusted propensities.\")\n",
      "C:\\Users\\user\\anaconda3\\envs\\finance\\lib\\site-packages\\doubleml\\_utils.py:283: UserWarning: Subsample has not common support. Results are based on adjusted propensities.\n",
      "  warnings.warn(\"Subsample has not common support. Results are based on adjusted propensities.\")\n",
      "C:\\Users\\user\\anaconda3\\envs\\finance\\lib\\site-packages\\doubleml\\_utils.py:283: UserWarning: Subsample has not common support. Results are based on adjusted propensities.\n",
      "  warnings.warn(\"Subsample has not common support. Results are based on adjusted propensities.\")\n",
      "C:\\Users\\user\\anaconda3\\envs\\finance\\lib\\site-packages\\doubleml\\_utils.py:283: UserWarning: Subsample has not common support. Results are based on adjusted propensities.\n",
      "  warnings.warn(\"Subsample has not common support. Results are based on adjusted propensities.\")\n",
      "C:\\Users\\user\\anaconda3\\envs\\finance\\lib\\site-packages\\doubleml\\_utils.py:283: UserWarning: Subsample has not common support. Results are based on adjusted propensities.\n",
      "  warnings.warn(\"Subsample has not common support. Results are based on adjusted propensities.\")\n"
     ]
    },
    {
     "name": "stdout",
     "output_type": "stream",
     "text": [
      "       coef    std err          t         P>|t|       2.5 %      97.5 %\n",
      "0.25  367.0  23.874357  15.372142  2.517077e-53  320.207121  413.792879\n",
      "0.50  600.0  35.277170  17.008167  7.143814e-65  530.858017  669.141983\n",
      "0.75  800.0  85.125243   9.397917  5.565368e-21  633.157590  966.842410\n",
      "2023-05-28 15:28:44.198414\n"
     ]
    }
   ],
   "source": [
    "print(datetime.now())\n",
    "obj_dml_data = dml.DoubleMLData(df, ' shares', ' weekday_is_saturday')\n",
    "dml_qte_obj = dml.DoubleMLQTE(obj_dml_data, ml_g, ml_m, score='PQ', quantiles=[0.25, 0.5, 0.75])\n",
    "print(\"treatment:\",' weekday_is_saturday')\n",
    "print(dml_qte_obj.fit().summary)\n",
    "current_dateTime = datetime.now()\n",
    "print(current_dateTime)\n",
    "time.sleep(60*10)"
   ]
  },
  {
   "cell_type": "code",
   "execution_count": 21,
   "metadata": {
    "executionInfo": {
     "elapsed": 8,
     "status": "aborted",
     "timestamp": 1685195870557,
     "user": {
      "displayName": "顏嘉佑",
      "userId": "03664050953453327827"
     },
     "user_tz": -480
    },
    "id": "H8S_14uUFRxW"
   },
   "outputs": [
    {
     "name": "stdout",
     "output_type": "stream",
     "text": [
      "2023-05-29 11:40:18.875593\n",
      "treatment:  weekday_is_sunday\n"
     ]
    },
    {
     "name": "stderr",
     "output_type": "stream",
     "text": [
      "Subsample has not common support. Results are based on adjusted propensities.\n",
      "Subsample has not common support. Results are based on adjusted propensities.\n",
      "Subsample has not common support. Results are based on adjusted propensities.\n",
      "Subsample has not common support. Results are based on adjusted propensities.\n",
      "Subsample has not common support. Results are based on adjusted propensities.\n",
      "Subsample has not common support. Results are based on adjusted propensities.\n",
      "Subsample has not common support. Results are based on adjusted propensities.\n",
      "Subsample has not common support. Results are based on adjusted propensities.\n",
      "Subsample has not common support. Results are based on adjusted propensities.\n"
     ]
    },
    {
     "name": "stdout",
     "output_type": "stream",
     "text": [
      "       coef     std err         t     P>|t|       2.5 %       97.5 %\n",
      "0.25  365.0   79.336965  4.600630  0.000004  209.502405   520.497595\n",
      "0.50  700.0  197.171629  3.550206  0.000385  313.550708  1086.449292\n",
      "0.75  600.0  393.407439  1.525136  0.127225 -171.064411  1371.064411\n",
      "2023-05-29 12:26:13.009402\n"
     ]
    }
   ],
   "source": [
    "print(datetime.now())\n",
    "obj_dml_data = dml.DoubleMLData(df, ' shares', ' weekday_is_sunday')\n",
    "dml_qte_obj = dml.DoubleMLQTE(obj_dml_data, ml_g, ml_m, score='PQ', quantiles=[0.25, 0.5, 0.75])\n",
    "print(\"treatment:\",' weekday_is_sunday')\n",
    "print(dml_qte_obj.fit().summary)\n",
    "current_dateTime = datetime.now()\n",
    "print(current_dateTime)\n",
    "time.sleep(60*10)"
   ]
  },
  {
   "cell_type": "code",
   "execution_count": 9,
   "metadata": {
    "executionInfo": {
     "elapsed": 8,
     "status": "aborted",
     "timestamp": 1685195870557,
     "user": {
      "displayName": "顏嘉佑",
      "userId": "03664050953453327827"
     },
     "user_tz": -480
    },
    "id": "5nbtCGhMFRzn"
   },
   "outputs": [
    {
     "name": "stdout",
     "output_type": "stream",
     "text": [
      "2023-05-28 15:38:44.285872\n",
      "treatment:  is_weekend\n"
     ]
    },
    {
     "name": "stderr",
     "output_type": "stream",
     "text": [
      "C:\\Users\\user\\anaconda3\\envs\\finance\\lib\\site-packages\\doubleml\\_utils.py:283: UserWarning: Subsample has not common support. Results are based on adjusted propensities.\n",
      "  warnings.warn(\"Subsample has not common support. Results are based on adjusted propensities.\")\n",
      "C:\\Users\\user\\anaconda3\\envs\\finance\\lib\\site-packages\\doubleml\\_utils.py:283: UserWarning: Subsample has not common support. Results are based on adjusted propensities.\n",
      "  warnings.warn(\"Subsample has not common support. Results are based on adjusted propensities.\")\n",
      "C:\\Users\\user\\anaconda3\\envs\\finance\\lib\\site-packages\\doubleml\\_utils.py:283: UserWarning: Subsample has not common support. Results are based on adjusted propensities.\n",
      "  warnings.warn(\"Subsample has not common support. Results are based on adjusted propensities.\")\n",
      "C:\\Users\\user\\anaconda3\\envs\\finance\\lib\\site-packages\\doubleml\\_utils.py:283: UserWarning: Subsample has not common support. Results are based on adjusted propensities.\n",
      "  warnings.warn(\"Subsample has not common support. Results are based on adjusted propensities.\")\n",
      "C:\\Users\\user\\anaconda3\\envs\\finance\\lib\\site-packages\\doubleml\\_utils.py:283: UserWarning: Subsample has not common support. Results are based on adjusted propensities.\n",
      "  warnings.warn(\"Subsample has not common support. Results are based on adjusted propensities.\")\n",
      "C:\\Users\\user\\anaconda3\\envs\\finance\\lib\\site-packages\\doubleml\\_utils.py:283: UserWarning: Subsample has not common support. Results are based on adjusted propensities.\n",
      "  warnings.warn(\"Subsample has not common support. Results are based on adjusted propensities.\")\n"
     ]
    },
    {
     "name": "stdout",
     "output_type": "stream",
     "text": [
      "       coef    std err          t          P>|t|       2.5 %       97.5 %\n",
      "0.25  384.0  14.714181  26.097273  3.915149e-150  355.160735   412.839265\n",
      "0.50  500.0  23.751877  21.050968   2.240579e-98  453.447176   546.552824\n",
      "0.75  900.0  64.912810  13.864752   1.035837e-43  772.773230  1027.226770\n",
      "2023-05-28 16:29:20.871760\n"
     ]
    }
   ],
   "source": [
    "print(datetime.now())\n",
    "obj_dml_data = dml.DoubleMLData(df, ' shares', ' is_weekend')\n",
    "dml_qte_obj = dml.DoubleMLQTE(obj_dml_data, ml_g, ml_m, score='PQ', quantiles=[0.25, 0.5, 0.75])\n",
    "print(\"treatment:\",' is_weekend')\n",
    "print(dml_qte_obj.fit().summary)\n",
    "current_dateTime = datetime.now()\n",
    "print(current_dateTime)\n"
   ]
  },
  {
   "cell_type": "code",
   "execution_count": null,
   "metadata": {},
   "outputs": [],
   "source": []
  }
 ],
 "metadata": {
  "colab": {
   "machine_shape": "hm",
   "provenance": [
    {
     "file_id": "10zuf7zwWbNaO9nLGw8ll2PGQiGpnyzLE",
     "timestamp": 1685193584944
    }
   ]
  },
  "kernelspec": {
   "display_name": "Python 3 (ipykernel)",
   "language": "python",
   "name": "python3"
  },
  "language_info": {
   "codemirror_mode": {
    "name": "ipython",
    "version": 3
   },
   "file_extension": ".py",
   "mimetype": "text/x-python",
   "name": "python",
   "nbconvert_exporter": "python",
   "pygments_lexer": "ipython3",
   "version": "3.8.15"
  }
 },
 "nbformat": 4,
 "nbformat_minor": 1
}
